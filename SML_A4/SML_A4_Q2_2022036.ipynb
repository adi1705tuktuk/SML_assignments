{
  "nbformat": 4,
  "nbformat_minor": 0,
  "metadata": {
    "colab": {
      "provenance": []
    },
    "kernelspec": {
      "name": "python3",
      "display_name": "Python 3"
    },
    "language_info": {
      "name": "python"
    }
  },
  "cells": [
    {
      "cell_type": "code",
      "execution_count": 1,
      "metadata": {
        "colab": {
          "base_uri": "https://localhost:8080/"
        },
        "id": "ZQ-fsUR6hFed",
        "outputId": "a9303109-18e1-4d54-dc61-b74b7ee3b500"
      },
      "outputs": [
        {
          "output_type": "stream",
          "name": "stdout",
          "text": [
            "Mounted at /content/drive\n"
          ]
        }
      ],
      "source": [
        "from google.colab import drive\n",
        "drive.mount('/content/drive')\n"
      ]
    },
    {
      "cell_type": "code",
      "source": [
        "import numpy as np\n",
        "from tqdm import tqdm\n",
        "from typing import Tuple\n",
        "import matplotlib.pyplot as plt\n",
        "from sklearn.decomposition import PCA\n",
        "from sklearn.model_selection import train_test_split"
      ],
      "metadata": {
        "id": "OqTcp4AfhaAi"
      },
      "execution_count": 5,
      "outputs": []
    },
    {
      "cell_type": "code",
      "source": [
        "import numpy as np\n",
        "import sys\n",
        "import math\n",
        "from typing import Tuple\n",
        "\n",
        "class Node:\n",
        "    def __init__(self, feature_index: int = None, threshold: float = None, value: int = None, left: 'Node' = None, right: 'Node' = None):\n",
        "        self.feature_index=feature_index\n",
        "        self.threshold=threshold\n",
        "        self.value=value\n",
        "        self.left=left\n",
        "        self.right=right\n",
        "\n",
        "class DecisionTreeRegressor:\n",
        "    def __init__(self):\n",
        "        pass\n",
        "\n",
        "    def fit(self, X: np.ndarray, y: np.ndarray):\n",
        "        self.n_classes = len(set(y))\n",
        "        self.n_features = X.shape[1]\n",
        "        self.tree = self._grow_tree(X, y)\n",
        "\n",
        "    def _grow_tree(self, X: np.ndarray, y: np.ndarray, depth: int = 0):\n",
        "        if depth == 1:\n",
        "            return Node(value=np.mean(y))\n",
        "\n",
        "        best_index, best_threshold = self._find_best_split(X, y)\n",
        "\n",
        "        left_indices, right_indices = self._split(X[:, best_index], best_threshold)\n",
        "\n",
        "        left_node = self._grow_tree(X[left_indices], y[left_indices], depth + 1)\n",
        "        right_node = self._grow_tree(X[right_indices], y[right_indices], depth + 1)\n",
        "\n",
        "        return Node(feature_index=best_index, threshold=best_threshold, left=left_node, right=right_node)\n",
        "\n",
        "    def _find_best_split(self, X: np.ndarray, y: np.ndarray):\n",
        "        best_SSR=sys.float_info.max\n",
        "        best_feature, best_threshold=None, None\n",
        "\n",
        "        for feature_index in range(self.n_features):\n",
        "            sorted_indices=np.argsort(X[:,feature_index])\n",
        "            sorted_x=X[sorted_indices]\n",
        "            # sorted_y=Y[sorted_indices]\n",
        "            tim=0\n",
        "            thresholds=np.unique(sorted_x[:, feature_index])\n",
        "            for threshold_index in range(len(thresholds)-1):\n",
        "                threshold=(thresholds[threshold_index]+thresholds[threshold_index+1])/2\n",
        "                left_indice,right_indice=self._split(X[:, feature_index], threshold)\n",
        "                ssr=self._total_SSR(y[left_indice], y[right_indice])\n",
        "                if(ssr<best_SSR):\n",
        "                    best_SSR=ssr\n",
        "                    best_feature=feature_index\n",
        "                    best_threshold=threshold\n",
        "\n",
        "        return best_feature, best_threshold\n",
        "\n",
        "\n",
        "    def _calc_SSR(self, y : np.ndarray):\n",
        "        y_avg=np.mean(y)\n",
        "        return np.sum((y-y_avg)**2)\n",
        "\n",
        "    def _total_SSR(self, y_left:np.ndarray, y_right:np.ndarray):\n",
        "        left_SSR=self._calc_SSR(y_left)\n",
        "        right_SSR=self._calc_SSR(y_right)\n",
        "        return (left_SSR+right_SSR)\n",
        "\n",
        "    def _split(self, feature: np.ndarray, threshold:float ):\n",
        "        left_indices = np.where(feature <= threshold)[0]\n",
        "        right_indices = np.where(feature > threshold)[0]\n",
        "        return left_indices, right_indices\n",
        "\n",
        "    def predict(self, X : np.ndarray):\n",
        "         return np.array([self._traverse_tree(x, self.tree) for x in X])\n",
        "\n",
        "    def _traverse_tree(self, X : np.ndarray, node: Node):\n",
        "        if(node.left is None and node.right is None):\n",
        "            return node.value\n",
        "        if X[node.feature_index] <= node.threshold:\n",
        "            return self._traverse_tree(X, node.left)\n",
        "        else:\n",
        "            return self._traverse_tree(X, node.right)\n",
        "\n",
        "class GradientBoost:\n",
        "    def __init__(self, training_rate : float=1):\n",
        "        self.trees=[]\n",
        "        self.residuals=None\n",
        "        self.training_rate=training_rate\n",
        "        self.losses=[]\n",
        "        self.y_mean=None\n",
        "\n",
        "    def __take_gradient(self, y, y_pred):\n",
        "        grad = -(y-y_pred)\n",
        "        return grad\n",
        "\n",
        "    def _add_tree(self, X : np.ndarray, Y  : np.ndarray):\n",
        "        if(len(self.trees)==0):\n",
        "            self.y_mean=np.mean(Y)\n",
        "            self.residuals=np.full(X.shape[0], self.y_mean)\n",
        "\n",
        "        tree=DecisionTreeRegressor()\n",
        "        grads=self.__take_gradient(Y, self.residuals)\n",
        "        tree.fit(X,grads)\n",
        "        self.trees.append(tree)\n",
        "        self.residuals-=self.training_rate*(tree.predict(X))\n",
        "\n",
        "    def predict(self, X:np.ndarray):\n",
        "        pred=np.full(X.shape[0], self.y_mean)\n",
        "        for tree in self.trees:\n",
        "            pred-=self.training_rate*(tree.predict(X))\n",
        "        return pred\n",
        "\n",
        "\n",
        "\n",
        "\n",
        "\n",
        "\n",
        ""
      ],
      "metadata": {
        "id": "ojiXqPAyhgZe"
      },
      "execution_count": 3,
      "outputs": []
    },
    {
      "cell_type": "code",
      "source": [],
      "metadata": {
        "id": "0WrNMkj_pHpa"
      },
      "execution_count": null,
      "outputs": []
    },
    {
      "cell_type": "markdown",
      "source": [
        "QUESTION 2"
      ],
      "metadata": {
        "id": "wFEOOfIIhUgY"
      }
    },
    {
      "cell_type": "code",
      "source": [
        "import numpy as np\n",
        "from tqdm import tqdm\n",
        "from typing import Tuple\n",
        "import matplotlib.pyplot as plt\n",
        "from sklearn.decomposition import PCA\n",
        "from sklearn.model_selection import train_test_split\n",
        "\n",
        "def main():\n",
        "    data = np.load('/content/drive/MyDrive/SML_A4/mnist.npz')\n",
        "    x_train = data['x_train']\n",
        "    y_train = data['y_train']\n",
        "    x_test = data['x_test']\n",
        "    y_test = data['y_test']\n",
        "\n",
        "    selected_classes=[0,1]\n",
        "    train_mask=np.isin(y_train, selected_classes)\n",
        "    x_train=x_train[train_mask]\n",
        "    y_train=y_train[train_mask]\n",
        "\n",
        "    test_mask=np.isin(y_test, selected_classes)\n",
        "    x_test=x_test[test_mask]\n",
        "    y_test=y_test[test_mask]\n",
        "\n",
        "    x_train=x_train.reshape(x_train.shape[0], -1)\n",
        "    x_test=x_test.reshape(x_test.shape[0], -1)\n",
        "\n",
        "    x_train, x_val, y_train, y_val=train_test_split(x_train, y_train, test_size=1000, stratify=y_train, random_state=42)\n",
        "\n",
        "    PCA_dim=5\n",
        "    pca=PCA(n_components=PCA_dim)\n",
        "    x_train=pca.fit_transform(x_train)\n",
        "    x_val=pca.transform(x_val)\n",
        "    x_test=pca.transform(x_test)\n",
        "\n",
        "    tree=GradientBoost(training_rate=0.01)\n",
        "\n",
        "    epoch=300\n",
        "    for _ in range(epoch):\n",
        "        tree._add_tree(x_train, y_train)\n",
        "        y_val_pred=tree.predict(x_val)\n",
        "        print(f\"Validation MSE: {np.mean((y_val-y_val_pred)**2)}\")\n",
        "\n",
        "    y_pred=tree.predict(x_test)\n",
        "    print(f\"Test MSE: {np.mean((y_test-y_pred)**2)}\")\n",
        "\n",
        "\n",
        "if __name__== '__main__':\n",
        "    main()"
      ],
      "metadata": {
        "colab": {
          "base_uri": "https://localhost:8080/"
        },
        "id": "G92i1cA5tOeB",
        "outputId": "c61b6d66-55e0-4bbb-aa4b-0069eba5fbe3"
      },
      "execution_count": null,
      "outputs": [
        {
          "output_type": "stream",
          "name": "stdout",
          "text": [
            "Validation MSE: 0.24411788737442988\n",
            "Validation MSE: 0.23935634940175046\n",
            "Validation MSE: 0.23468959225176034\n",
            "Validation MSE: 0.23011572952391748\n",
            "Validation MSE: 0.2256329123596728\n",
            "Validation MSE: 0.22123932869535753\n",
            "Validation MSE: 0.21693320252993933\n",
            "Validation MSE: 0.21271279320735045\n",
            "Validation MSE: 0.20857639471309727\n",
            "Validation MSE: 0.2045223349848677\n",
            "Validation MSE: 0.20054897523685794\n",
            "Validation MSE: 0.19665470929754536\n",
            "Validation MSE: 0.1928379629606398\n",
            "Validation MSE: 0.18909719334895117\n",
            "Validation MSE: 0.18543088829091658\n",
            "Validation MSE: 0.1818375657095345\n",
            "Validation MSE: 0.17831331849593948\n",
            "Validation MSE: 0.17486132647788186\n",
            "Validation MSE: 0.17147564733002646\n",
            "Validation MSE: 0.16816514496057988\n",
            "Validation MSE: 0.16491235870338983\n",
            "Validation MSE: 0.16173197165936995\n",
            "Validation MSE: 0.15860686486046882\n",
            "Validation MSE: 0.15555148524871443\n",
            "Validation MSE: 0.15254904894484314\n",
            "Validation MSE: 0.14961376926987954\n",
            "Validation MSE: 0.1467291909487842\n",
            "Validation MSE: 0.14390929625302767\n",
            "Validation MSE: 0.14113795214974972\n",
            "Validation MSE: 0.1384289124619333\n",
            "Validation MSE: 0.1357663601571756\n",
            "Validation MSE: 0.13316382323691084\n",
            "Validation MSE: 0.13060579454563367\n",
            "Validation MSE: 0.1281055789124957\n",
            "Validation MSE: 0.1256479730513637\n",
            "Validation MSE: 0.123246061287343\n",
            "Validation MSE: 0.12088493831008869\n",
            "Validation MSE: 0.11857747062469087\n",
            "Validation MSE: 0.1163090451148899\n",
            "Validation MSE: 0.1140923131625832\n",
            "Validation MSE: 0.11191294817374832\n",
            "Validation MSE: 0.10978338911386512\n",
            "Validation MSE: 0.10769629701991562\n",
            "Validation MSE: 0.1056438475927315\n"
          ]
        }
      ]
    }
  ]
}